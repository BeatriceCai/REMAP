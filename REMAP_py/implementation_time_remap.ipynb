{
 "cells": [
  {
   "cell_type": "code",
   "execution_count": 1,
   "metadata": {},
   "outputs": [],
   "source": [
    "import os\n",
    "import sys\n",
    "import time\n",
    "import numpy as np\n",
    "import pandas as pd\n",
    "from scipy import sparse\n",
    "from scipy.io import savemat, loadmat\n",
    "from REMAP import REMAP\n",
    "import logging"
   ]
  },
  {
   "cell_type": "code",
   "execution_count": 9,
   "metadata": {},
   "outputs": [],
   "source": [
    "def record_remap_time_by_rank(chem_prot,chem_chem,prot_prot,ranks,outfile,k=5,verbose=True):\n",
    "    times=np.zeros((len(ranks),k))\n",
    "    for i,rank in enumerate(ranks):\n",
    "        args.low_rank=rank\n",
    "        for j in range(k):\n",
    "            since=time.time()\n",
    "            U,V=REMAP(chem_prot,chem_chem,prot_prot,args)\n",
    "            elapsed=time.time()-since\n",
    "            times[i,j]=elapsed\n",
    "            if verbose:\n",
    "                print(\"rank {}, repeat-{}: {} seconds elapsed\".format(args.low_rank,j,elapsed))\n",
    "    times_stat=np.zeros((times.shape[0],2))\n",
    "    times_stat[:,0]=np.mean(times,axis=1)\n",
    "    times_stat[:,1]=np.std(times,axis=1)\n",
    "    np.savetxt(outfile,times_stat,fmt='%8.2f',delimiter=',')"
   ]
  },
  {
   "cell_type": "code",
   "execution_count": 3,
   "metadata": {},
   "outputs": [],
   "source": [
    "class arguments:\n",
    "    pass\n",
    "args=arguments()\n",
    "args.max_iter=100\n",
    "args.low_rank=100\n",
    "args.weight=0.1\n",
    "args.imp=0.1\n",
    "args.reg=0.1\n",
    "args.weight_chem=0.1\n",
    "args.weight_prot=0.1\n",
    "args.seed=618"
   ]
  },
  {
   "cell_type": "code",
   "execution_count": 4,
   "metadata": {},
   "outputs": [
    {
     "name": "stdout",
     "output_type": "stream",
     "text": [
      "chem-prot:(12384, 3500), chem-chem:(12384, 12384), prot-prot:(3500, 3500)\n"
     ]
    }
   ],
   "source": [
    "chem_prot=sparse.load_npz('data/chem_prot_zinc.npz')\n",
    "chem_chem=sparse.load_npz('data/chem_chem_zinc.npz')\n",
    "prot_prot=sparse.load_npz('data/prot_prot_zinc.npz')\n",
    "print(\"chem-prot:{}, chem-chem:{}, prot-prot:{}\".format(chem_prot.shape,chem_chem.shape,prot_prot.shape))"
   ]
  },
  {
   "cell_type": "code",
   "execution_count": 5,
   "metadata": {},
   "outputs": [
    {
     "name": "stdout",
     "output_type": "stream",
     "text": [
      "rank 100, repeat-0: 177.78087711334229 seconds elapsed\n",
      "rank 100, repeat-1: 176.5629141330719 seconds elapsed\n",
      "rank 100, repeat-2: 187.9010889530182 seconds elapsed\n",
      "rank 100, repeat-3: 178.20886206626892 seconds elapsed\n",
      "rank 100, repeat-4: 194.32873129844666 seconds elapsed\n",
      "rank 200, repeat-0: 270.421746969223 seconds elapsed\n",
      "rank 200, repeat-1: 279.532084941864 seconds elapsed\n",
      "rank 200, repeat-2: 296.0964562892914 seconds elapsed\n",
      "rank 200, repeat-3: 294.7406961917877 seconds elapsed\n",
      "rank 200, repeat-4: 295.6982629299164 seconds elapsed\n",
      "rank 300, repeat-0: 340.1816430091858 seconds elapsed\n",
      "rank 300, repeat-1: 327.6108400821686 seconds elapsed\n",
      "rank 300, repeat-2: 322.441547870636 seconds elapsed\n",
      "rank 300, repeat-3: 327.0844511985779 seconds elapsed\n",
      "rank 300, repeat-4: 325.3518431186676 seconds elapsed\n",
      "rank 400, repeat-0: 414.5346670150757 seconds elapsed\n",
      "rank 400, repeat-1: 472.5835988521576 seconds elapsed\n",
      "rank 400, repeat-2: 448.7672312259674 seconds elapsed\n",
      "rank 400, repeat-3: 413.44690895080566 seconds elapsed\n",
      "rank 400, repeat-4: 411.09748005867004 seconds elapsed\n",
      "rank 500, repeat-0: 466.53110098838806 seconds elapsed\n",
      "rank 500, repeat-1: 502.4797601699829 seconds elapsed\n",
      "rank 500, repeat-2: 499.64665603637695 seconds elapsed\n",
      "rank 500, repeat-3: 505.4884669780731 seconds elapsed\n",
      "rank 500, repeat-4: 513.5489311218262 seconds elapsed\n",
      "rank 600, repeat-0: 525.1699352264404 seconds elapsed\n",
      "rank 600, repeat-1: 524.9842491149902 seconds elapsed\n",
      "rank 600, repeat-2: 524.5977551937103 seconds elapsed\n",
      "rank 600, repeat-3: 528.197203874588 seconds elapsed\n",
      "rank 600, repeat-4: 533.6575071811676 seconds elapsed\n",
      "rank 700, repeat-0: 616.6928839683533 seconds elapsed\n",
      "rank 700, repeat-1: 613.4461047649384 seconds elapsed\n",
      "rank 700, repeat-2: 617.681058883667 seconds elapsed\n",
      "rank 700, repeat-3: 610.5510611534119 seconds elapsed\n",
      "rank 700, repeat-4: 616.8176839351654 seconds elapsed\n",
      "rank 800, repeat-0: 707.5667579174042 seconds elapsed\n",
      "rank 800, repeat-1: 751.6238899230957 seconds elapsed\n",
      "rank 800, repeat-2: 762.5522129535675 seconds elapsed\n",
      "rank 800, repeat-3: 762.4123542308807 seconds elapsed\n",
      "rank 800, repeat-4: 723.1218528747559 seconds elapsed\n",
      "rank 900, repeat-0: 772.0149462223053 seconds elapsed\n",
      "rank 900, repeat-1: 765.0107951164246 seconds elapsed\n",
      "rank 900, repeat-2: 764.7658162117004 seconds elapsed\n",
      "rank 900, repeat-3: 767.7478976249695 seconds elapsed\n",
      "rank 900, repeat-4: 765.0314419269562 seconds elapsed\n",
      "rank 1000, repeat-0: 925.678635597229 seconds elapsed\n",
      "rank 1000, repeat-1: 995.1386497020721 seconds elapsed\n",
      "rank 1000, repeat-2: 866.8862631320953 seconds elapsed\n",
      "rank 1000, repeat-3: 855.2021160125732 seconds elapsed\n",
      "rank 1000, repeat-4: 878.205185174942 seconds elapsed\n",
      "rank 1250, repeat-0: 1048.7238140106201 seconds elapsed\n",
      "rank 1250, repeat-1: 1034.947536945343 seconds elapsed\n",
      "rank 1250, repeat-2: 1030.7332701683044 seconds elapsed\n",
      "rank 1250, repeat-3: 1034.9004123210907 seconds elapsed\n",
      "rank 1250, repeat-4: 1040.6930003166199 seconds elapsed\n",
      "rank 1500, repeat-0: 1263.858764886856 seconds elapsed\n",
      "rank 1500, repeat-1: 1340.6729021072388 seconds elapsed\n",
      "rank 1500, repeat-2: 1293.4299347400665 seconds elapsed\n",
      "rank 1500, repeat-3: 1295.9469871520996 seconds elapsed\n",
      "rank 1500, repeat-4: 1311.8261108398438 seconds elapsed\n",
      "rank 1750, repeat-0: 1674.2034571170807 seconds elapsed\n",
      "rank 1750, repeat-1: 1764.5830609798431 seconds elapsed\n",
      "rank 1750, repeat-2: 1771.3521757125854 seconds elapsed\n",
      "rank 1750, repeat-3: 1882.3128623962402 seconds elapsed\n",
      "rank 1750, repeat-4: 1658.0913450717926 seconds elapsed\n",
      "rank 2000, repeat-0: 1731.5068962574005 seconds elapsed\n",
      "rank 2000, repeat-1: 1722.9311192035675 seconds elapsed\n",
      "rank 2000, repeat-2: 1694.6752171516418 seconds elapsed\n",
      "rank 2000, repeat-3: 1696.9138278961182 seconds elapsed\n",
      "rank 2000, repeat-4: 1736.809770822525 seconds elapsed\n"
     ]
    }
   ],
   "source": [
    "ranks=[100,200,300,400,500,600,700,800,900,1000,1250,1500,1750,2000]\n",
    "k=5\n",
    "record_remap_time_by_rank(ranks,'pyREMAP_time_on_ZINC.csv',k=k,verbose=True)"
   ]
  },
  {
   "cell_type": "code",
   "execution_count": 6,
   "metadata": {},
   "outputs": [],
   "source": [
    "del chem_prot, chem_chem, prot_prot"
   ]
  },
  {
   "cell_type": "code",
   "execution_count": 7,
   "metadata": {},
   "outputs": [
    {
     "name": "stdout",
     "output_type": "stream",
     "text": [
      "chem-prot-syn:(50000, 20000), chem-chem-syn:(50000, 50000), prot-prot-syn:(20000, 20000)\n"
     ]
    }
   ],
   "source": [
    "chem_chem_syn=loadmat('../data/synthetic/chem_chem_syn.mat')\n",
    "chem_prot_syn=loadmat('../data/synthetic/chem_prot_syn.mat')\n",
    "prot_prot_syn=loadmat('../data/synthetic/prot_prot_syn.mat')\n",
    "chem_chem_syn=chem_chem_syn['chem_chem_syn']\n",
    "prot_prot_syn=prot_prot_syn['prot_prot_syn']\n",
    "chem_prot_syn=chem_prot_syn['chem_prot_syn']\n",
    "print(\"chem-prot-syn:{}, chem-chem-syn:{}, prot-prot-syn:{}\".format(\n",
    "    chem_prot_syn.shape,chem_chem_syn.shape,prot_prot_syn.shape))"
   ]
  },
  {
   "cell_type": "code",
   "execution_count": null,
   "metadata": {},
   "outputs": [],
   "source": [
    "ranks=[100,200,300,400,500]\n",
    "k=5\n",
    "record_remap_time_by_rank(chem_prot_syn,chem_chem_syn,prot_prot_syn,ranks,'pyREMAP_time_on_synthetic.csv',k=k,verbose=True)"
   ]
  },
  {
   "cell_type": "code",
   "execution_count": null,
   "metadata": {},
   "outputs": [],
   "source": []
  }
 ],
 "metadata": {
  "kernelspec": {
   "display_name": "rdkit",
   "language": "python",
   "name": "rdkit"
  },
  "language_info": {
   "codemirror_mode": {
    "name": "ipython",
    "version": 3
   },
   "file_extension": ".py",
   "mimetype": "text/x-python",
   "name": "python",
   "nbconvert_exporter": "python",
   "pygments_lexer": "ipython3",
   "version": "3.6.8"
  }
 },
 "nbformat": 4,
 "nbformat_minor": 2
}
